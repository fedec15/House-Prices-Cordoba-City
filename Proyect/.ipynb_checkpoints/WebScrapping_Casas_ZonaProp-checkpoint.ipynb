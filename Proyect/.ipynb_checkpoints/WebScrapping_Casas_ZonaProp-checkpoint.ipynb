{
 "cells": [
  {
   "cell_type": "code",
   "execution_count": 1,
   "metadata": {
    "colab": {},
    "colab_type": "code",
    "id": "aPr2CAuyQlKv"
   },
   "outputs": [],
   "source": [
    "# Importing required libraries\n",
    "from requests import get\n",
    "from requests.exceptions import RequestException\n",
    "from contextlib import closing\n",
    "from bs4 import BeautifulSoup\n",
    "import re\n",
    "import pandas as pd\n",
    "import random\n",
    "import time"
   ]
  },
  {
   "cell_type": "code",
   "execution_count": 2,
   "metadata": {
    "colab": {},
    "colab_type": "code",
    "id": "w6wb-ifnl7h2"
   },
   "outputs": [],
   "source": [
    "ra = ['Mozilla/5.0 (Windows; U; Windows NT 5.1; en-US) AppleWebKit/525.19 (KHTML, like Gecko) Chrome/1.0.154.53 Safari/525.1',\n",
    "      'Mozilla/5.0 (Windows; U; Windows NT 5.1; en-US) AppleWebKit/525.19 (KHTML, like Gecko) Chrome/1.0.154.36 Safari/525.19',\n",
    "      'Mozilla/5.0 (Windows; U; Windows NT 6.1; en-US) AppleWebKit/534.10 (KHTML, like Gecko) Chrome/7.0.540.0 Safari/534.10',\n",
    "      'Mozilla/5.0 (Windows; U; Windows NT 5.2; en-US) AppleWebKit/534.4 (KHTML, like Gecko) Chrome/6.0.481.0 Safari/534.4',\n",
    "      'Mozilla/5.0 (Macintosh; U; Intel Mac OS X; en-US) AppleWebKit/533.4 (KHTML, like Gecko) Chrome/5.0.375.86 Safari/533.4',\n",
    "      'Mozilla/5.0 (Windows; U; Windows NT 5.1; en-US) AppleWebKit/532.2 (KHTML, like Gecko) Chrome/4.0.223.3 Safari/532.2',\n",
    "      'Mozilla/5.0 (Windows; U; Windows NT 6.1; en-US) AppleWebKit/532.0 (KHTML, like Gecko) Chrome/4.0.201.1 Safari/532.0',\n",
    "      'Mozilla/5.0 (Windows; U; Windows NT 5.2; en-US) AppleWebKit/532.0 (KHTML, like Gecko) Chrome/3.0.195.27 Safari/532.0',\n",
    "      'Mozilla/5.0 (Windows; U; Windows NT 5.1; en-US) AppleWebKit/530.5 (KHTML, like Gecko) Chrome/2.0.173.1 Safari/530.5',\n",
    "      'Mozilla/5.0 (Windows; U; Windows NT 5.2; en-US) AppleWebKit/534.10 (KHTML, like Gecko) Chrome/8.0.558.0 Safari/534.10',\n",
    "      'Mozilla/5.0 (X11; U; Linux x86_64; en-US) AppleWebKit/540.0 (KHTML,like Gecko) Chrome/9.1.0.0 Safari/540.0',\n",
    "      'Mozilla/5.0 (Windows; U; Windows NT 5.1; en-US) AppleWebKit/534.14 (KHTML, like Gecko) Chrome/9.0.600.0 Safari/534.14',\n",
    "      'Mozilla/5.0 (X11; U; Windows NT 6; en-US) AppleWebKit/534.12 (KHTML, like Gecko) Chrome/9.0.587.0 Safari/534.12',\n",
    "      'Mozilla/5.0 (Windows; U; Windows NT 6.1; en-US) AppleWebKit/534.13 (KHTML, like Gecko) Chrome/9.0.597.0 Safari/534.13',\n",
    "      'Mozilla/5.0 (Windows; U; Windows NT 6.1; en-US) AppleWebKit/534.16 (KHTML, like Gecko) Chrome/10.0.648.11 Safari/534.16',\n",
    "      'Mozilla/5.0 (Windows; U; Windows NT 6.0; en-US) AppleWebKit/534.20 (KHTML, like Gecko) Chrome/11.0.672.2 Safari/534.20',\n",
    "      'Mozilla/5.0 (Windows NT 6.0) AppleWebKit/535.1 (KHTML, like Gecko) Chrome/14.0.792.0 Safari/535.1',\n",
    "      'Mozilla/5.0 (Windows NT 5.1) AppleWebKit/535.2 (KHTML, like Gecko) Chrome/15.0.872.0 Safari/535.2',\n",
    "      'Mozilla/5.0 (Windows NT 6.1; WOW64) AppleWebKit/535.7 (KHTML, like Gecko) Chrome/16.0.912.36 Safari/535.7',\n",
    "      'Mozilla/5.0 (Windows NT 6.0; WOW64) AppleWebKit/535.11 (KHTML, like Gecko) Chrome/17.0.963.66 Safari/535.11',\n",
    "      'Mozilla/5.0 (Macintosh; Intel Mac OS X 10_6_8) AppleWebKit/535.19 (KHTML, like Gecko) Chrome/18.0.1025.45 Safari/535.19',\n",
    "      'Mozilla/5.0 (Windows NT 6.2; WOW64) AppleWebKit/535.24 (KHTML, like Gecko) Chrome/19.0.1055.1 Safari/535.24',\n",
    "      'Mozilla/5.0 (Windows NT 6.2) AppleWebKit/536.6 (KHTML, like Gecko) Chrome/20.0.1090.0 Safari/536.6',\n",
    "      'Mozilla/5.0 (Windows NT 6.1; WOW64) AppleWebKit/537.1 (KHTML, like Gecko) Chrome/22.0.1207.1 Safari/537.1',\n",
    "      'Mozilla/5.0 (Windows NT 6.2; WOW64) AppleWebKit/537.15 (KHTML, like Gecko) Chrome/24.0.1295.0 Safari/537.15',\n",
    "      'Mozilla/5.0 (Windows NT 6.1; WOW64) AppleWebKit/537.36 (KHTML, like Gecko) Chrome/27.0.1453.93 Safari/537.36',\n",
    "      'Mozilla/5.0 (Windows NT 6.2) AppleWebKit/537.36 (KHTML, like Gecko) Chrome/28.0.1467.0 Safari/537.36',\n",
    "      'Mozilla/5.0 (Windows NT 6.3; WOW64) AppleWebKit/537.36 (KHTML, like Gecko) Chrome/30.0.1599.101 Safari/537.36',\n",
    "      'Mozilla/5.0 (Windows NT 6.1; WOW64) AppleWebKit/537.36 (KHTML, like Gecko) Chrome/31.0.1623.0 Safari/537.36',\n",
    "      'Mozilla/5.0 (Windows NT 6.2; WOW64) AppleWebKit/537.36 (KHTML, like Gecko) Chrome/34.0.1847.116 Safari/537.36',\n",
    "      'Mozilla/5.0 (Windows NT 6.1; WOW64) AppleWebKit/537.36 (KHTML, like Gecko) Chrome/37.0.2062.103 Safari/537.36',\n",
    "      'Mozilla/5.0 (Macintosh; Intel Mac OS X 10_10_2) AppleWebKit/537.36 (KHTML, like Gecko) Chrome/40.0.2214.38 Safari/537.36',\n",
    "      'Mozilla/5.0 (Windows NT 6.1; WOW64) AppleWebKit/537.36 (KHTML, like Gecko) Chrome/46.0.2490.71 Safari/537.36',\n",
    "      'Mozilla/5.0 (Windows NT 6.1; WOW64) AppleWebKit/537.36 (KHTML, like Gecko) Chrome/51.0.2704.103 Safari/537.36',\n",
    "      'Mozilla/5.0 (Windows NT 6.1; Win64; x64) AppleWebKit/537.36 (KHTML, like Gecko) Chrome/62.0.3202.62 Safari/537.36'\n",
    "     ]"
   ]
  },
  {
   "cell_type": "code",
   "execution_count": 3,
   "metadata": {
    "colab": {},
    "colab_type": "code",
    "id": "Z_O37AqRQrDy"
   },
   "outputs": [],
   "source": [
    "def simple_get(url):\n",
    "    \"\"\"\n",
    "    Attempts to get the content at `url` by making an HTTP GET request.\n",
    "    If the content-type of response is some kind of HTML/XML, return the\n",
    "    text content, otherwise return None.\n",
    "    \"\"\"\n",
    "    h = {'user-agent': random.choice(ra),\n",
    "         'referer': 'https://www.google.com.ar',}\n",
    "      \n",
    "    try:\n",
    "#       delays = [0.7, 0.4, 0.6, 0.2, 1.0, 1.3]\n",
    "#       delay = random.choice(delays)\n",
    "#       time.sleep(delay)\n",
    "      r = get(url, headers=h)\n",
    "      html = r.text\n",
    "      return html\n",
    "    except RequestException as e:\n",
    "      log_error('Error during requests to {0} : {1}'.format(url, str(e)))\n",
    "      return None\n",
    "\n",
    "\n",
    "def log_error(e):\n",
    "    \"\"\"\n",
    "    It is always a good idea to log errors. \n",
    "    This function just prints them, but you can\n",
    "    make it do anything.\n",
    "    \"\"\"\n",
    "    print(e)"
   ]
  },
  {
   "cell_type": "code",
   "execution_count": 4,
   "metadata": {
    "colab": {},
    "colab_type": "code",
    "id": "qDOZDzKeeqET"
   },
   "outputs": [],
   "source": [
    "# Function for moving into next url\n",
    "def get_next_url(soup):\n",
    "  for i in soup.select('a'):\n",
    "    i = str(i)\n",
    "    if 'rel=\"next\"' in i:\n",
    "      for j in i.split():\n",
    "        if 'href' in j:\n",
    "          j = j.replace('\"','').replace('href=','')\n",
    "          j = \"https://www.zonaprop.com.ar\"+j       \n",
    "          return j"
   ]
  },
  {
   "cell_type": "code",
   "execution_count": 5,
   "metadata": {
    "colab": {},
    "colab_type": "code",
    "id": "ezB11iBggZO1"
   },
   "outputs": [],
   "source": [
    "# Function for getting each house url \n",
    "def get_urls(soup):  \n",
    "    urls = []\n",
    "    for i in soup.select('a'):\n",
    "        i = str(i)\n",
    "        if 'dl-aviso-a' in i:\n",
    "          for j in i.split():\n",
    "            if 'href' in j:\n",
    "                j = j.replace('>','').replace('#map;','').replace('\"','').replace('href=','')\n",
    "                j = 'https://www.zonaprop.com.ar'+j\n",
    "                urls.append(j)\n",
    "    return list(set(urls))"
   ]
  },
  {
   "cell_type": "code",
   "execution_count": 6,
   "metadata": {
    "colab": {},
    "colab_type": "code",
    "id": "ewQ_Ka-EJjl9"
   },
   "outputs": [],
   "source": [
    "# Function for getting row data from each house url\n",
    "def get_row(url):\n",
    "    html = simple_get(url)\n",
    "    soup = BeautifulSoup(html)\n",
    "    result = {}\n",
    "    \n",
    "    valores = ['Superficie total', 'Superficie cubierta', 'Baños', 'Cocheras', 'Dormitorios', 'Antigüedad']\n",
    "    for i in soup.select('ul'):\n",
    "            i = str(i)\n",
    "            if 'Superficie total' in i:\n",
    "                i = i.splitlines()\n",
    "                for x, j in enumerate(i):\n",
    "                  for v in valores:\n",
    "                    if v in j:\n",
    "                          result[v] = i[x-2].replace('<b>','').replace('</b>','').replace('m2','')\n",
    "    \n",
    "    valores =['ciudad', 'precioVenta', 'tipoDePropiedad'] \n",
    "    for i in str(soup.select('script')[0]).split(','):\n",
    "      for v in valores:\n",
    "        if v in i:\n",
    "          if v == 'precioVenta':\n",
    "            i = i.replace(v,'').replace(':','').replace(' ','').replace('\\n','').replace('\\'','').replace('});</script>','').replace('\\\"','').replace('\\t','')\n",
    "            if 'USD' in i:\n",
    "              i = re.findall(\"[-+]?[.]?[\\d]+(?:,\\d\\d\\d)*[\\.]?\\d*(?:[eE][-+]?\\d+)?\", i)\n",
    "              i = ''.join(i)\n",
    "              i = i.replace('.', '')\n",
    "              result[v] = i\n",
    "            elif '$' in i:\n",
    "              i = re.findall(\"[-+]?[.]?[\\d]+(?:,\\d\\d\\d)*[\\.]?\\d*(?:[eE][-+]?\\d+)?\", i)\n",
    "              i = ''.join(i)\n",
    "              i = i.replace('.', '')\n",
    "              ff = int(int(i)/38.8000)\n",
    "              result[v] = str(ff)\n",
    "          elif v == 'ciudad':\n",
    "            i = i.replace(v,'').replace(':','').replace('\\n','').replace('\\'','').replace('});</script>','').replace('\\\"','').replace('\\t','')\n",
    "            result[v] = i\n",
    "          else:\n",
    "            i = i.replace(v,'').replace(':','').replace(' ','').replace('\\n','').replace('\\'','').replace('});</script>','').replace('\\\"','').replace('\\t','')\n",
    "            result[v] = i\n",
    "\n",
    "    a = [i.get_text().splitlines()[2].split(',') for i in soup.select('hgroup')]\n",
    "    result['Calle'] = a[0][0].replace(' al ',' ')\n",
    "    result['Barrio'] = a[0][1][2:]\n",
    "    \n",
    "    return result"
   ]
  },
  {
   "cell_type": "code",
   "execution_count": 7,
   "metadata": {
    "colab": {},
    "colab_type": "code",
    "id": "HMx6JU85cnAr"
   },
   "outputs": [],
   "source": [
    "# Final function for executing previous function and getting data \n",
    "def get_data(url, search):\n",
    "  num = 0\n",
    "  row = [] \n",
    "  for x in range(search):\n",
    "    try:\n",
    "      soup = BeautifulSoup(simple_get(url))\n",
    "    except:\n",
    "      print('Error de conexión')\n",
    "      return row\n",
    "    \n",
    "    urls = get_urls(soup)\n",
    "\n",
    "    for i in urls:\n",
    "      try:\n",
    "        row.append(get_row(i))\n",
    "      except:\n",
    "        num +=1\n",
    "\n",
    "    url = get_next_url(soup)\n",
    "    \n",
    "    print(x, num)\n",
    "    print(url)\n",
    "    print('--------')\n",
    "\n",
    "  return row"
   ]
  },
  {
   "cell_type": "code",
   "execution_count": null,
   "metadata": {
    "colab": {
     "base_uri": "https://localhost:8080/",
     "height": 1887
    },
    "colab_type": "code",
    "executionInfo": {
     "elapsed": 1110191,
     "status": "ok",
     "timestamp": 1550197303053,
     "user": {
      "displayName": "Federico Castellano",
      "photoUrl": "https://lh3.googleusercontent.com/-OYxyzdNV_E0/AAAAAAAAAAI/AAAAAAAAASo/MSUG-VjxBgg/s64/photo.jpg",
      "userId": "00977171112745686660"
     },
     "user_tz": 180
    },
    "id": "5PPpNQiIe9c-",
    "outputId": "9943dd58-2c37-44cb-f41c-b29c31b9d1ae"
   },
   "outputs": [
    {
     "name": "stdout",
     "output_type": "stream",
     "text": [
      "0 5\n",
      "https://www.zonaprop.com.ar/casas-venta-cordoba-pagina-2.html\n",
      "--------\n",
      "1 10\n",
      "https://www.zonaprop.com.ar/casas-venta-cordoba-pagina-3.html\n",
      "--------\n"
     ]
    }
   ],
   "source": [
    "# getting row data\n",
    "url = 'https://www.zonaprop.com.ar/casas-venta-cordoba.html'\n",
    "x = get_data(url,350)"
   ]
  },
  {
   "cell_type": "code",
   "execution_count": null,
   "metadata": {
    "colab": {
     "base_uri": "https://localhost:8080/",
     "height": 3111
    },
    "colab_type": "code",
    "executionInfo": {
     "elapsed": 1110167,
     "status": "ok",
     "timestamp": 1550197303059,
     "user": {
      "displayName": "Federico Castellano",
      "photoUrl": "https://lh3.googleusercontent.com/-OYxyzdNV_E0/AAAAAAAAAAI/AAAAAAAAASo/MSUG-VjxBgg/s64/photo.jpg",
      "userId": "00977171112745686660"
     },
     "user_tz": 180
    },
    "id": "H855zr3NfZSH",
    "outputId": "141c4d48-4b75-4825-c4ce-75cc940e322b"
   },
   "outputs": [],
   "source": [
    "# Converting row data into pandas DataFrame\n",
    "columns = ['tipoDePropiedad',\n",
    "           'Zona:',\n",
    "           'ciudad',\n",
    "           'Barrio',\n",
    "           'Calle',\n",
    "           'Tipo de Barrio',\n",
    "           'Apto Escritura', \n",
    "           'Apto Crédito',\n",
    "           'Etapa de Construcción', \n",
    "           'Antigüedad', \n",
    "           'Cantidad de Plantas:',\n",
    "           'Dormitorios',\n",
    "           'Baños',\n",
    "           'Cocheras',\n",
    "           'Cobertura Cocheras:',\n",
    "           'Superficie total',\n",
    "           'Superficie cubierta',    \n",
    "           'precioVenta',]\n",
    "\n",
    "dataFrame = pd.DataFrame(x, columns=columns)\n",
    "\n",
    "dataFrame.columns = ['Tipo de Propiedad',\n",
    "                     'Zona',\n",
    "                     'Ciudad', \n",
    "                     'Barrio', \n",
    "                     'Calle', \n",
    "                     'Tipo de Barrio',\n",
    "                     'Apto Escritura', \n",
    "                     'Apto Crédito',\n",
    "                     'Etapa de Construcción', \n",
    "                     'Antigüedad', \n",
    "                     'Cantidad de Plantas',\n",
    "                     'Cantidad de Dormitorios',\n",
    "                     'Cantidad de Baños',\n",
    "                     'Cantidad de Cocheras',\n",
    "                     'Cobertura Cocheras',\n",
    "                     'Superficie Total m2',\n",
    "                     'Superficie Cubierta m2',\n",
    "                     'Valor']\n",
    "\n",
    "dataFrame"
   ]
  }
 ],
 "metadata": {
  "colab": {
   "collapsed_sections": [],
   "name": "WebScrapping_Casas_ZonaProp.ipynb",
   "provenance": [],
   "version": "0.3.2"
  },
  "kernelspec": {
   "display_name": "Python 3",
   "language": "python",
   "name": "python3"
  },
  "language_info": {
   "codemirror_mode": {
    "name": "ipython",
    "version": 3
   },
   "file_extension": ".py",
   "mimetype": "text/x-python",
   "name": "python",
   "nbconvert_exporter": "python",
   "pygments_lexer": "ipython3",
   "version": "3.6.5"
  }
 },
 "nbformat": 4,
 "nbformat_minor": 1
}
